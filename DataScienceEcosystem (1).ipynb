{
 "cells": [
  {
   "cell_type": "markdown",
   "id": "0eab16a9-36a3-4a07-b33d-b9d7a9f88634",
   "metadata": {},
   "source": [
    "# Data Science Tools and Ecosystem"
   ]
  },
  {
   "cell_type": "code",
   "execution_count": 4,
   "id": "088fba71-4fea-4e05-821f-5e496e4d25c0",
   "metadata": {},
   "outputs": [],
   "source": [
    "# In this notebook, Data Science Tools and Ecosystem are summarized."
   ]
  },
  {
   "cell_type": "code",
   "execution_count": null,
   "id": "d6e51a9b-a6f4-49d0-9f10-8e26ecb97037",
   "metadata": {},
   "outputs": [],
   "source": [
    "# Some of the popular languages that Data Scientists use are:"
   ]
  },
  {
   "cell_type": "markdown",
   "id": "1cf75748-939f-43a4-b78f-88084a128bd8",
   "metadata": {},
   "source": [
    "1. **Python**: Widely used for its simplicity and extensive libraries for data analysis, visualization, and machine learning.\n",
    "2. **R**: Known for its powerful statistical analysis capabilities and rich ecosystem of packages for data science.\n",
    "3. **SQL**: Essential for querying and managing large databases, often used in data manipulation and extraction.\n",
    "4. **Java**: Used in large-scale data processing and for developing production-level machine learning applications.\n",
    "5. **Julia**: Gaining popularity for its high performance in numerical and scientific computing.\n"
   ]
  },
  {
   "cell_type": "code",
   "execution_count": null,
   "id": "0d737ccf-9c80-4538-8bea-7732be31439f",
   "metadata": {},
   "outputs": [],
   "source": [
    "# Some of the commonly used libraries by Data Scientists include:"
   ]
  },
  {
   "cell_type": "markdown",
   "id": "5df382b5-5301-43b0-b5e3-bd7d08c9e2b1",
   "metadata": {},
   "source": [
    "1. **Pandas**: A powerful library for data manipulation and analysis, providing data structures like DataFrames for handling structured data.\n",
    "2. **NumPy**: Essential for numerical computations, offering support for arrays, matrices, and a collection of mathematical functions.\n",
    "3. **Matplotlib**: A versatile library for creating static, animated, and interactive visualizations in Python.\n",
    "4. **Scikit-learn**: Provides simple and efficient tools for data mining and machine learning.\n",
    "5. **Seaborn**: Built on top of Matplotlib, it offers a high-level interface for drawing attractive and informative statistical graphics.\n",
    "6. **TensorFlow**: An open-source library for machine learning and deep learning, developed by Google.\n"
   ]
  },
  {
   "cell_type": "code",
   "execution_count": null,
   "id": "657ac270-0b45-4af0-8bc8-6e242aba9a68",
   "metadata": {},
   "outputs": [],
   "source": [
    "# Data Science Tools           "
   ]
  },
  {
   "cell_type": "markdown",
   "id": "6fd6bacb-dfc1-4165-948e-37d5ed076cd3",
   "metadata": {},
   "source": [
    "| Jupyter Notebook             |\n",
    "| RStudio                      |\n",
    "| VS Code                      |\n"
   ]
  },
  {
   "cell_type": "code",
   "execution_count": null,
   "id": "47f74d15-aff5-4480-81db-ad419a73bcef",
   "metadata": {},
   "outputs": [],
   "source": [
    "### Below are a few examples of evaluating arithmetic expressions in Python"
   ]
  },
  {
   "cell_type": "markdown",
   "id": "fabdf54b-d9a4-4606-9a67-dc59bb951436",
   "metadata": {},
   "source": [
    "1. Addition: `3 + 2` results in `5`\n",
    "2. Subtraction: `5 - 2` results in `3`\n",
    "3. Multiplication: `4 * 3` results in `12`\n",
    "4. Division: `10 / 2` results in `5.0`\n",
    "5. Exponentiation: `2 ** 3` results in `8`\n",
    "6. Modulus: `10 % 3` results in `1`\n"
   ]
  },
  {
   "cell_type": "code",
   "execution_count": 17,
   "id": "d125fe74-400e-4736-a0df-f9769275a9b0",
   "metadata": {},
   "outputs": [],
   "source": [
    " # This a simple arithmetic expression to mutiply then add integers"
   ]
  },
  {
   "cell_type": "code",
   "execution_count": 19,
   "id": "ef0df142-be7b-4ceb-a738-dea959c66b72",
   "metadata": {},
   "outputs": [
    {
     "data": {
      "text/plain": [
       "17"
      ]
     },
     "execution_count": 19,
     "metadata": {},
     "output_type": "execute_result"
    }
   ],
   "source": [
    "result = (3 * 4) + 5\n",
    "result"
   ]
  },
  {
   "cell_type": "code",
   "execution_count": 15,
   "id": "56fc00bb-7aaf-41ea-ba65-089cbe2ab7f7",
   "metadata": {},
   "outputs": [],
   "source": [
    "# This will convert 200 minutes to hours by dividing by 60"
   ]
  },
  {
   "cell_type": "code",
   "execution_count": 16,
   "id": "c1e652ef-9250-449e-8f78-23020d05661f",
   "metadata": {},
   "outputs": [
    {
     "data": {
      "text/plain": [
       "3.3333333333333335"
      ]
     },
     "execution_count": 16,
     "metadata": {},
     "output_type": "execute_result"
    }
   ],
   "source": [
    "hours = 200 / 60\n",
    "hours"
   ]
  },
  {
   "cell_type": "markdown",
   "id": "9b9e7a32-6622-4539-b72c-b32ad319edfd",
   "metadata": {},
   "source": [
    "**Objectives:**"
   ]
  },
  {
   "cell_type": "code",
   "execution_count": null,
   "id": "6865e31e-19be-4790-9651-ea3c45ccd5fc",
   "metadata": {},
   "outputs": [],
   "source": [
    "- List popular languages for Data Science\n",
    "- Identify commonly used libraries in Data Science\n",
    "- Introduce development environment tools for Data Science\n",
    "- Evaluate arithmetic expressions in Python\n",
    "- Convert units, such as minutes to hours, using Python"
   ]
  },
  {
   "cell_type": "markdown",
   "id": "59d35022-197d-4092-9a2c-5e4464e8feae",
   "metadata": {},
   "source": [
    "## Author"
   ]
  },
  {
   "cell_type": "code",
   "execution_count": null,
   "id": "319d53a1-d55f-4a82-94b3-96c5a21d2c9b",
   "metadata": {},
   "outputs": [],
   "source": [
    "[Your Name]"
   ]
  }
 ],
 "metadata": {
  "kernelspec": {
   "display_name": "Python 3 (ipykernel)",
   "language": "python",
   "name": "python3"
  },
  "language_info": {
   "codemirror_mode": {
    "name": "ipython",
    "version": 3
   },
   "file_extension": ".py",
   "mimetype": "text/x-python",
   "name": "python",
   "nbconvert_exporter": "python",
   "pygments_lexer": "ipython3",
   "version": "3.11.7"
  }
 },
 "nbformat": 4,
 "nbformat_minor": 5
}
